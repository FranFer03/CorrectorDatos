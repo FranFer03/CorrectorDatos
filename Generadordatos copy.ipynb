{
 "cells": [
  {
   "cell_type": "code",
   "execution_count": 2,
   "metadata": {},
   "outputs": [],
   "source": [
    "import pandas as pd # type: ignore\n",
    "import numpy as np # type: ignore"
   ]
  },
  {
   "cell_type": "code",
   "execution_count": 10,
   "metadata": {},
   "outputs": [
    {
     "name": "stdout",
     "output_type": "stream",
     "text": [
      "[1725241527, 1725241256, 1725236423, 1725259223, 1725255208, 1725250891, 1725249702, 1725256761, 1725256884]\n"
     ]
    }
   ],
   "source": [
    "Fecha\n",
    "jornada = [[\"00:00:00\", \"02:00:00\"], [\"03:00:00\", \"07:00:00\"]]\n",
    "cantidad = [3,6]\n",
    "x = 0\n",
    "LOC_Time = []\n",
    "for i in jornada:\n",
    "    start = pd.to_datetime(i[0]).value // 10**9\n",
    "    end = pd.to_datetime(i[1]).value // 10**9\n",
    "    for j in range(cantidad[x]):\n",
    "        LOC_Time.append((np.random.randint(start, end)))\n",
    "    x += 1\n",
    "print(LOC_Time)"
   ]
  },
  {
   "cell_type": "code",
   "execution_count": 13,
   "metadata": {},
   "outputs": [
    {
     "name": "stdout",
     "output_type": "stream",
     "text": [
      "DatetimeIndex(['2024-08-26 01:41:09', '2024-08-26 00:45:10',\n",
      "               '2024-08-26 00:37:58', '2024-08-26 01:46:58',\n",
      "               '2024-08-26 00:27:10', '2024-08-26 00:50:09',\n",
      "               '2024-08-26 01:23:44', '2024-08-26 00:02:43',\n",
      "               '2024-08-26 01:24:54', '2024-08-26 01:00:36'],\n",
      "              dtype='datetime64[ns]', freq=None)\n",
      "DatetimeIndex(['2024-08-26 03:26:49', '2024-08-26 05:52:00',\n",
      "               '2024-08-26 03:40:15', '2024-08-26 06:05:15',\n",
      "               '2024-08-26 04:32:16', '2024-08-26 04:53:19',\n",
      "               '2024-08-26 06:47:20', '2024-08-26 05:10:09',\n",
      "               '2024-08-26 04:31:50', '2024-08-26 05:10:57'],\n",
      "              dtype='datetime64[ns]', freq=None)\n"
     ]
    }
   ],
   "source": [
    "import numpy as np\n",
    "import pandas as pd\n",
    "\n",
    "fecha_input = \"2024-08-26\"\n",
    "\n",
    "jornada = [[\"00:00:00\", \"02:00:00\"], [\"03:00:00\", \"07:00:00\"]]\n",
    "\n",
    "for i in jornada:\n",
    "    start = pd.to_datetime(f\"{fecha_input} {i[0]}\").value // 10**9\n",
    "    end = pd.to_datetime(f\"{fecha_input} {i[1]}\").value // 10**9\n",
    "    random_timestamps = np.random.randint(start, end, 10)\n",
    "    \n",
    "    print(pd.to_datetime(random_timestamps, unit=\"s\"))\n"
   ]
  },
  {
   "cell_type": "code",
   "execution_count": null,
   "metadata": {},
   "outputs": [],
   "source": []
  }
 ],
 "metadata": {
  "kernelspec": {
   "display_name": "base",
   "language": "python",
   "name": "python3"
  },
  "language_info": {
   "codemirror_mode": {
    "name": "ipython",
    "version": 3
   },
   "file_extension": ".py",
   "mimetype": "text/x-python",
   "name": "python",
   "nbconvert_exporter": "python",
   "pygments_lexer": "ipython3",
   "version": "3.12.4"
  }
 },
 "nbformat": 4,
 "nbformat_minor": 2
}
