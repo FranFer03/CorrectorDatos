{
 "cells": [
  {
   "cell_type": "code",
   "execution_count": 32,
   "metadata": {},
   "outputs": [],
   "source": [
    "import pandas as pd\n",
    "import numpy as np"
   ]
  },
  {
   "cell_type": "code",
   "execution_count": 33,
   "metadata": {},
   "outputs": [
    {
     "data": {
      "text/plain": [
       "Record                   int64\n",
       "Date                    object\n",
       "LOC Time                object\n",
       "Numero De Articulo       int64\n",
       " Estado Camara           int64\n",
       " Resultado Estampado     int64\n",
       " Resulado Control        int64\n",
       " Pieza en Chronos        int64\n",
       "dtype: object"
      ]
     },
     "execution_count": 33,
     "metadata": {},
     "output_type": "execute_result"
    }
   ],
   "source": [
    "df = pd.read_csv(\"JIDOKA-QG-Pinon-Duro02-09.csv\")\n",
    "df.dtypes"
   ]
  },
  {
   "cell_type": "code",
   "execution_count": 34,
   "metadata": {},
   "outputs": [
    {
     "data": {
      "text/html": [
       "<div>\n",
       "<style scoped>\n",
       "    .dataframe tbody tr th:only-of-type {\n",
       "        vertical-align: middle;\n",
       "    }\n",
       "\n",
       "    .dataframe tbody tr th {\n",
       "        vertical-align: top;\n",
       "    }\n",
       "\n",
       "    .dataframe thead th {\n",
       "        text-align: right;\n",
       "    }\n",
       "</style>\n",
       "<table border=\"1\" class=\"dataframe\">\n",
       "  <thead>\n",
       "    <tr style=\"text-align: right;\">\n",
       "      <th></th>\n",
       "      <th>Record</th>\n",
       "      <th>Date</th>\n",
       "      <th>LOC Time</th>\n",
       "      <th>Numero De Articulo</th>\n",
       "      <th>Estado Camara</th>\n",
       "      <th>Resultado Estampado</th>\n",
       "      <th>Resulado Control</th>\n",
       "      <th>Pieza en Chronos</th>\n",
       "    </tr>\n",
       "  </thead>\n",
       "  <tbody>\n",
       "    <tr>\n",
       "      <th>0</th>\n",
       "      <td>1</td>\n",
       "      <td>09/02/2024</td>\n",
       "      <td>14:25:55</td>\n",
       "      <td>2445731</td>\n",
       "      <td>1</td>\n",
       "      <td>0</td>\n",
       "      <td>0</td>\n",
       "      <td>0</td>\n",
       "    </tr>\n",
       "    <tr>\n",
       "      <th>1</th>\n",
       "      <td>2</td>\n",
       "      <td>09/02/2024</td>\n",
       "      <td>14:27:09</td>\n",
       "      <td>2445731</td>\n",
       "      <td>1</td>\n",
       "      <td>0</td>\n",
       "      <td>0</td>\n",
       "      <td>0</td>\n",
       "    </tr>\n",
       "  </tbody>\n",
       "</table>\n",
       "</div>"
      ],
      "text/plain": [
       "   Record        Date  LOC Time  Numero De Articulo   Estado Camara  \\\n",
       "0       1  09/02/2024  14:25:55             2445731               1   \n",
       "1       2  09/02/2024  14:27:09             2445731               1   \n",
       "\n",
       "    Resultado Estampado   Resulado Control   Pieza en Chronos  \n",
       "0                     0                  0                  0  \n",
       "1                     0                  0                  0  "
      ]
     },
     "execution_count": 34,
     "metadata": {},
     "output_type": "execute_result"
    }
   ],
   "source": [
    "df.head(2)"
   ]
  },
  {
   "cell_type": "code",
   "execution_count": 39,
   "metadata": {},
   "outputs": [
    {
     "data": {
      "text/html": [
       "<div>\n",
       "<style scoped>\n",
       "    .dataframe tbody tr th:only-of-type {\n",
       "        vertical-align: middle;\n",
       "    }\n",
       "\n",
       "    .dataframe tbody tr th {\n",
       "        vertical-align: top;\n",
       "    }\n",
       "\n",
       "    .dataframe thead th {\n",
       "        text-align: right;\n",
       "    }\n",
       "</style>\n",
       "<table border=\"1\" class=\"dataframe\">\n",
       "  <thead>\n",
       "    <tr style=\"text-align: right;\">\n",
       "      <th></th>\n",
       "      <th>Record</th>\n",
       "      <th>Date</th>\n",
       "      <th>LOC Time</th>\n",
       "      <th>Articulo</th>\n",
       "      <th>Estado Camara</th>\n",
       "      <th>Resultado Estampado</th>\n",
       "      <th>Resulado Control</th>\n",
       "      <th>Pieza en Chronos</th>\n",
       "    </tr>\n",
       "  </thead>\n",
       "  <tbody>\n",
       "    <tr>\n",
       "      <th>5</th>\n",
       "      <td>1</td>\n",
       "      <td>09/02/2024</td>\n",
       "      <td>14:41:43</td>\n",
       "      <td>2445731</td>\n",
       "      <td>1</td>\n",
       "      <td>1</td>\n",
       "      <td>1</td>\n",
       "      <td>1</td>\n",
       "    </tr>\n",
       "    <tr>\n",
       "      <th>10</th>\n",
       "      <td>1</td>\n",
       "      <td>09/02/2024</td>\n",
       "      <td>15:53:13</td>\n",
       "      <td>2445731</td>\n",
       "      <td>0</td>\n",
       "      <td>0</td>\n",
       "      <td>1</td>\n",
       "      <td>1</td>\n",
       "    </tr>\n",
       "    <tr>\n",
       "      <th>15</th>\n",
       "      <td>1</td>\n",
       "      <td>09/02/2024</td>\n",
       "      <td>16:08:00</td>\n",
       "      <td>2445731</td>\n",
       "      <td>1</td>\n",
       "      <td>1</td>\n",
       "      <td>0</td>\n",
       "      <td>1</td>\n",
       "    </tr>\n",
       "    <tr>\n",
       "      <th>20</th>\n",
       "      <td>1</td>\n",
       "      <td>09/02/2024</td>\n",
       "      <td>16:44:45</td>\n",
       "      <td>2445731</td>\n",
       "      <td>1</td>\n",
       "      <td>0</td>\n",
       "      <td>1</td>\n",
       "      <td>1</td>\n",
       "    </tr>\n",
       "    <tr>\n",
       "      <th>25</th>\n",
       "      <td>1</td>\n",
       "      <td>09/02/2024</td>\n",
       "      <td>17:10:54</td>\n",
       "      <td>2445731</td>\n",
       "      <td>1</td>\n",
       "      <td>0</td>\n",
       "      <td>0</td>\n",
       "      <td>1</td>\n",
       "    </tr>\n",
       "  </tbody>\n",
       "</table>\n",
       "</div>"
      ],
      "text/plain": [
       "    Record        Date  LOC Time  Articulo   Estado Camara  \\\n",
       "5        1  09/02/2024  14:41:43   2445731               1   \n",
       "10       1  09/02/2024  15:53:13   2445731               0   \n",
       "15       1  09/02/2024  16:08:00   2445731               1   \n",
       "20       1  09/02/2024  16:44:45   2445731               1   \n",
       "25       1  09/02/2024  17:10:54   2445731               1   \n",
       "\n",
       "     Resultado Estampado   Resulado Control   Pieza en Chronos  \n",
       "5                      1                  1                  1  \n",
       "10                     0                  1                  1  \n",
       "15                     1                  0                  1  \n",
       "20                     0                  1                  1  \n",
       "25                     0                  0                  1  "
      ]
     },
     "execution_count": 39,
     "metadata": {},
     "output_type": "execute_result"
    }
   ],
   "source": [
    "Record = []\n",
    "Date = []\n",
    "LOC_Time = []\n",
    "Articulo = []\n",
    "EstadoCamara = []\n",
    "ResultadoEstampado = []\n",
    "ResultadoControl = []\n",
    "PiezaChronos = []\n",
    "\n",
    "for i in range(len(df)):\n",
    "    if df[\" Pieza en Chronos\"][i] == 1:\n",
    "        Record.append(1)\n",
    "        Date.append(df.iloc[i][\"Date\"])\n",
    "        LOC_Time.append(df.iloc[i][\"LOC Time\"])\n",
    "        Articulo.append(df.iloc[i][\"Numero De Articulo\"])\n",
    "        EstadoCamara.append(df.iloc[i][\" Estado Camara\"])\n",
    "        ResultadoEstampado.append(df.iloc[i-1][\" Resulado Control\"])\n",
    "        ResultadoControl.append(df.iloc[i][\" Resultado Estampado\"])\n",
    "        PiezaChronos.append(1)\n",
    "\n",
    "data = {\n",
    "    'Record': Record,\n",
    "    'Date': Date,\n",
    "    'LOC Time': LOC_Time,\n",
    "    'Articulo': Articulo,\n",
    "    ' Estado Camara': EstadoCamara,\n",
    "    ' Resultado Estampado': ResultadoEstampado,\n",
    "    ' Resulado Control': ResultadoControl,\n",
    "    ' Pieza en Chronos': PiezaChronos\n",
    "}\n",
    "\n",
    "df_new = pd.DataFrame(data)\n",
    "df_new[5::5].head()"
   ]
  },
  {
   "cell_type": "code",
   "execution_count": 36,
   "metadata": {},
   "outputs": [],
   "source": [
    "df_new.to_csv(\"Jidoka_Pinon Agosto limpio.csv\",index=False)"
   ]
  }
 ],
 "metadata": {
  "kernelspec": {
   "display_name": "base",
   "language": "python",
   "name": "python3"
  },
  "language_info": {
   "codemirror_mode": {
    "name": "ipython",
    "version": 3
   },
   "file_extension": ".py",
   "mimetype": "text/x-python",
   "name": "python",
   "nbconvert_exporter": "python",
   "pygments_lexer": "ipython3",
   "version": "3.11.7"
  }
 },
 "nbformat": 4,
 "nbformat_minor": 2
}
